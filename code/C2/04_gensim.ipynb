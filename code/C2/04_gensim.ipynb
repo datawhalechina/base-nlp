{
 "cells": [
  {
   "cell_type": "code",
   "execution_count": 1,
   "id": "4fb0ca41",
   "metadata": {},
   "outputs": [],
   "source": [
    "# 第四节 基于Gensim的词向量实战"
   ]
  },
  {
   "cell_type": "markdown",
   "id": "cf8a794b",
   "metadata": {},
   "source": [
    "## 一、导入库"
   ]
  },
  {
   "cell_type": "code",
   "execution_count": 2,
   "id": "b393ba28",
   "metadata": {},
   "outputs": [],
   "source": [
    "# 如果尚未安装，请运行以下命令：\n",
    "# !pip install gensim jieba\n",
    "\n",
    "import jieba\n",
    "from gensim import corpora, models\n",
    "from gensim.models import Word2Vec, KeyedVectors\n",
    "import warnings\n",
    "warnings.filterwarnings('ignore')"
   ]
  },
  {
   "cell_type": "markdown",
   "id": "ef1e63ac",
   "metadata": {},
   "source": [
    "## 二、Gensim工作流"
   ]
  },
  {
   "cell_type": "code",
   "execution_count": 3,
   "id": "c603beef",
   "metadata": {},
   "outputs": [
    {
     "name": "stderr",
     "output_type": "stream",
     "text": [
      "Building prefix dict from the default dictionary ...\n",
      "Loading model from cache C:\\Users\\dalvqw\\AppData\\Local\\Temp\\jieba.cache\n",
      "Loading model cost 0.381 seconds.\n",
      "Prefix dict has been built successfully.\n"
     ]
    },
    {
     "name": "stdout",
     "output_type": "stream",
     "text": [
      "分词后语料: [['央行', '降息', '，', '刺激', '股市', '反弹'], ['球队', '赢得', '总决赛', '冠军', '，', '球员', '表现出色']]\n",
      "词典: {'刺激': 0, '反弹': 1, '央行': 2, '股市': 3, '降息': 4, '，': 5, '冠军': 6, '总决赛': 7, '球员': 8, '球队': 9, '表现出色': 10, '赢得': 11}\n",
      "BoW语料库: [[(0, 1), (1, 1), (2, 1), (3, 1), (4, 1), (5, 1)], [(5, 1), (6, 1), (7, 1), (8, 1), (9, 1), (10, 1), (11, 1)]]\n"
     ]
    }
   ],
   "source": [
    "# Step 1: 准备分词后的语料 (新闻标题)\n",
    "raw_headlines = [\n",
    "    \"央行降息，刺激股市反弹\",\n",
    "    \"球队赢得总决赛冠军，球员表现出色\"\n",
    "]\n",
    "tokenized_headlines = [jieba.lcut(doc) for doc in raw_headlines]\n",
    "print(f\"分词后语料: {tokenized_headlines}\")\n",
    "\n",
    "# Step 2: 创建词典\n",
    "dictionary = corpora.Dictionary(tokenized_headlines)\n",
    "print(f\"词典: {dictionary.token2id}\")\n",
    "\n",
    "# Step 3: 转换为BoW向量语料库\n",
    "corpus_bow = [dictionary.doc2bow(doc) for doc in tokenized_headlines]\n",
    "print(f\"BoW语料库: {corpus_bow}\")"
   ]
  },
  {
   "cell_type": "markdown",
   "id": "45c214b6",
   "metadata": {},
   "source": [
    "## 三、TF-IDF与关键词权重"
   ]
  },
  {
   "cell_type": "code",
   "execution_count": 4,
   "id": "7acbe177",
   "metadata": {},
   "outputs": [
    {
     "name": "stdout",
     "output_type": "stream",
     "text": [
      "词典大小: 35\n",
      "语料库包含 6 篇文档\n"
     ]
    }
   ],
   "source": [
    "# 1. 准备语料 (新闻标题，包含财经和体育两个明显主题)\n",
    "headlines = [\n",
    "    \"央行降息，刺激股市反弹\",\n",
    "    \"球队赢得总决赛冠军，球员表现出色\",\n",
    "    \"国家队公布最新一期足球集训名单\",\n",
    "    \"A股市场持续震荡，投资者需谨慎\",\n",
    "    \"篮球巨星刷新历史得分记录\",\n",
    "    \"理财产品收益率创下新高\"\n",
    "]\n",
    "tokenized_headlines = [jieba.lcut(title) for title in headlines]\n",
    "\n",
    "# 2. 创建词典和BoW语料库\n",
    "dictionary = corpora.Dictionary(tokenized_headlines)\n",
    "corpus_bow = [dictionary.doc2bow(doc) for doc in tokenized_headlines]\n",
    "\n",
    "print(f\"词典大小: {len(dictionary)}\")\n",
    "print(f\"语料库包含 {len(corpus_bow)} 篇文档\")"
   ]
  },
  {
   "cell_type": "code",
   "execution_count": 12,
   "id": "4f1d448c",
   "metadata": {},
   "outputs": [
    {
     "name": "stdout",
     "output_type": "stream",
     "text": [
      "第一篇标题的TF-IDF向量:\n",
      "[(0, 0.44066740566370055), (1, 0.44066740566370055), (2, 0.44066740566370055), (3, 0.44066740566370055), (4, 0.44066740566370055), (5, 0.1704734229377651)]\n",
      "第一篇标题的TF-IDF向量(带词语):\n",
      "[('刺激', 0.44066740566370055), ('反弹', 0.44066740566370055), ('央行', 0.44066740566370055), ('股市', 0.44066740566370055), ('降息', 0.44066740566370055), ('，', 0.1704734229377651)]\n",
      "\n",
      "新标题的TF-IDF向量:\n",
      "[(3, 0.9326446771245245), (5, 0.360796211497975)]\n"
     ]
    }
   ],
   "source": [
    "# 3. 训练TF-IDF模型\n",
    "tfidf_model = models.TfidfModel(corpus_bow)\n",
    "\n",
    "# 4. 将BoW语料库转换为TF-IDF向量表示\n",
    "corpus_tfidf = tfidf_model[corpus_bow]\n",
    "\n",
    "# 辅助函数：把 (token_id, weight) 转成 (token, weight)，并按权重降序展示\n",
    "def tfidf_with_words(tfidf_vec, id2word):\n",
    "    pairs = [(id2word[token_id], weight) for token_id, weight in tfidf_vec]\n",
    "    return sorted(pairs, key=lambda x: x[1], reverse=True)\n",
    "\n",
    "# 打印第一篇标题的TF-IDF向量\n",
    "first_tfidf = list(corpus_tfidf)[0]\n",
    "print(\"第一篇标题的TF-IDF向量:\")\n",
    "print(first_tfidf)\n",
    "print(\"第一篇标题的TF-IDF向量(带词语):\")\n",
    "print(tfidf_with_words(first_tfidf, dictionary))\n",
    "\n",
    "# 5. 对新标题应用模型\n",
    "new_headline = \"股市大涨，牛市来了\"\n",
    "new_headline_bow = dictionary.doc2bow(list(jieba.cut(new_headline)))\n",
    "new_headline_tfidf = tfidf_model[new_headline_bow]\n",
    "print(\"\\n新标题的TF-IDF向量:\")\n",
    "print(new_headline_tfidf)"
   ]
  },
  {
   "cell_type": "markdown",
   "id": "d1af7ea0",
   "metadata": {},
   "source": [
    "## 四、LDA与文档主题挖掘"
   ]
  },
  {
   "cell_type": "code",
   "execution_count": 6,
   "id": "28aef76b",
   "metadata": {},
   "outputs": [
    {
     "name": "stdout",
     "output_type": "stream",
     "text": [
      "模型发现的2个主题及其关键词:\n",
      "(0, '0.045*\"，\" + 0.040*\"公布\" + 0.039*\"一期\" + 0.039*\"名单\" + 0.039*\"足球\" + 0.039*\"最新\" + 0.038*\"集训\" + 0.038*\"国家队\" + 0.037*\"A股\" + 0.037*\"市场\"')\n",
      "(1, '0.066*\"，\" + 0.039*\"篮球\" + 0.039*\"刷新\" + 0.039*\"历史\" + 0.039*\"记录\" + 0.038*\"得分\" + 0.038*\"巨星\" + 0.037*\"刺激\" + 0.036*\"降息\" + 0.036*\"反弹\"')\n"
     ]
    }
   ],
   "source": [
    "# 1. 准备语料\n",
    "headlines = [\n",
    "    \"央行降息，刺激股市反弹\",\n",
    "    \"球队赢得总决赛冠军，球员表现出色\",\n",
    "    \"国家队公布最新一期足球集训名单\",\n",
    "    \"A股市场持续震荡，投资者需谨慎\",\n",
    "    \"篮球巨星刷新历史得分记录\",\n",
    "    \"理财产品收益率创下新高\"\n",
    "]\n",
    "tokenized_headlines = [jieba.lcut(title) for title in headlines]\n",
    "\n",
    "# 2. 创建词典和BoW语料库\n",
    "dictionary = corpora.Dictionary(tokenized_headlines)\n",
    "corpus_bow = [dictionary.doc2bow(doc) for doc in tokenized_headlines]\n",
    "\n",
    "# 3. 训练LDA模型 (假设需要发现2个主题)\n",
    "lda_model = models.LdaModel(corpus=corpus_bow, id2word=dictionary, num_topics=2, random_state=100)\n",
    "\n",
    "# 4. 查看模型发现的主题\n",
    "print(\"模型发现的2个主题及其关键词:\")\n",
    "for topic in lda_model.print_topics():\n",
    "    print(topic)\n"
   ]
  },
  {
   "cell_type": "code",
   "execution_count": 13,
   "id": "e05248cd",
   "metadata": {},
   "outputs": [
    {
     "name": "stdout",
     "output_type": "stream",
     "text": [
      "\n",
      "新标题 '巨星詹姆斯获得常规赛MVP' 的主题分布:\n",
      "[(0, 0.27247813), (1, 0.7275219)]\n"
     ]
    }
   ],
   "source": [
    "# 5. 推断新文档的主题分布\n",
    "new_headline = \"巨星詹姆斯获得常规赛MVP\"\n",
    "new_headline_bow = dictionary.doc2bow(jieba.lcut(new_headline))\n",
    "topic_distribution = lda_model[new_headline_bow]\n",
    "print(f\"\\n新标题 '{new_headline}' 的主题分布:\")\n",
    "print(topic_distribution)"
   ]
  },
  {
   "cell_type": "markdown",
   "id": "1bb021a1",
   "metadata": {},
   "source": [
    "## 五、Word2Vec模型实战"
   ]
  },
  {
   "cell_type": "markdown",
   "id": "a25fc831",
   "metadata": {},
   "source": [
    "### 5.1 模型训练与核心参数"
   ]
  },
  {
   "cell_type": "code",
   "execution_count": 66,
   "id": "48bacea6",
   "metadata": {},
   "outputs": [
    {
     "name": "stdout",
     "output_type": "stream",
     "text": [
      "模型训练完成！\n",
      "词汇表大小: 93\n",
      "词向量维度: 50\n"
     ]
    }
   ],
   "source": [
    "# 1. 准备语料 \n",
    "headlines = [\n",
    "    # 财经\n",
    "    \"央行降息，刺激股市反弹\",\n",
    "    \"A股市场持续震荡，投资者需谨慎\",\n",
    "    \"理财产品收益率创下新高\",\n",
    "    \"证监会发布新规，规范市场交易\",\n",
    "    \"创业板指数上涨，科技股领涨大盘\",\n",
    "    \"房价调控政策出台，房地产市场降温\",\n",
    "    \"全球股市动荡，影响资本市场信心\",\n",
    "    \"分析师认为，当前股市风险与机遇并存，市场情绪复杂\",\n",
    "\n",
    "    # 体育\n",
    "    \"球队赢得总决赛冠军，球员表现出色\",\n",
    "    \"国家队公布最新一期足球集训名单\",\n",
    "    \"篮球巨星刷新历史得分记录\",\n",
    "    \"奥运会开幕，中国代表团旗手确定\",\n",
    "    \"马拉松比赛圆满结束，选手创造佳绩\",\n",
    "    \"电子竞技联赛吸引大量年轻观众\",\n",
    "    \"这支球队的每位球员都表现出色\",\n",
    "    \"球员转会市场活跃，多支球队积极引援\"\n",
    "]\n",
    "\n",
    "tokenized_headlines = [list(jieba.cut(title)) for title in headlines]\n",
    "\n",
    "# 2. 训练Word2Vec模型\n",
    "model = Word2Vec(tokenized_headlines, vector_size=50, window=3, min_count=1, sg=1)\n",
    "\n",
    "print(f\"模型训练完成！\")\n",
    "print(f\"词汇表大小: {len(model.wv)}\")\n",
    "print(f\"词向量维度: {model.wv.vector_size}\")\n",
    "\n",
    "# 训练完成后，所有词向量都存储在 model.wv 对象中\n",
    "# model.wv 是一个 KeyedVectors 实例"
   ]
  },
  {
   "cell_type": "markdown",
   "id": "37f8c8ac",
   "metadata": {},
   "source": [
    "### 5.2 使用词向量\n"
   ]
  },
  {
   "cell_type": "markdown",
   "id": "c9966e30",
   "metadata": {},
   "source": [
    "\n"
   ]
  },
  {
   "cell_type": "code",
   "execution_count": 67,
   "id": "ad92ee32",
   "metadata": {},
   "outputs": [
    {
     "name": "stdout",
     "output_type": "stream",
     "text": [
      "与 '股市' 最相似的词: [('名单', 0.3699544370174408), ('央行', 0.3554984927177429), ('年轻', 0.24192844331264496), ('联赛', 0.23673078417778015), ('马拉松', 0.20006775856018066), ('证监会', 0.19390541315078735), ('每位', 0.17580750584602356), ('积极', 0.16841839253902435), ('球队', 0.16585905849933624), ('理财产品', 0.16510605812072754)]\n",
      "\n",
      "'球队' 和 '球员' 的相似度: -0.1552\n",
      "\n",
      "'市场' 的向量维度: (50,)\n"
     ]
    }
   ],
   "source": [
    "# 1. 寻找最相似的词\n",
    "# 在小语料上，结果可能不完美，但能体现出模型学习到了主题内的关联\n",
    "similar_to_market = model.wv.most_similar('股市')\n",
    "print(f\"与 '股市' 最相似的词: {similar_to_market}\")\n",
    "\n",
    "# 2. 计算两个词的余弦相似度\n",
    "similarity = model.wv.similarity('球队', '球员')\n",
    "print(f\"\\n'球队' 和 '球员' 的相似度: {similarity:.4f}\")\n",
    "\n",
    "# 3. 获取一个词的向量\n",
    "market_vector = model.wv['市场']\n",
    "print(f\"\\n'市场' 的向量维度: {market_vector.shape}\")"
   ]
  },
  {
   "cell_type": "markdown",
   "id": "f2ed20d9",
   "metadata": {},
   "source": [
    "### 5.3 模型的持久化\n"
   ]
  },
  {
   "cell_type": "code",
   "execution_count": 68,
   "id": "5bf929e0",
   "metadata": {},
   "outputs": [
    {
     "name": "stdout",
     "output_type": "stream",
     "text": [
      "\n",
      "加载后，'球队' 和 '球员' 的相似度: -0.1552\n"
     ]
    }
   ],
   "source": [
    "# 保存词向量到文件\n",
    "model.wv.save(\"news_vectors.kv\")\n",
    "\n",
    "# 从文件加载词向量\n",
    "loaded_wv = KeyedVectors.load(\"news_vectors.kv\")\n",
    "\n",
    "# 加载后可以执行同样的操作\n",
    "print(f\"\\n加载后，'球队' 和 '球员' 的相似度: {loaded_wv.similarity('球队', '球员'):.4f}\")"
   ]
  }
 ],
 "metadata": {
  "kernelspec": {
   "display_name": "Python 3 (ipykernel)",
   "language": "python",
   "name": "python3"
  },
  "language_info": {
   "codemirror_mode": {
    "name": "ipython",
    "version": 3
   },
   "file_extension": ".py",
   "mimetype": "text/x-python",
   "name": "python",
   "nbconvert_exporter": "python",
   "pygments_lexer": "ipython3",
   "version": "3.10.16"
  }
 },
 "nbformat": 4,
 "nbformat_minor": 5
}
